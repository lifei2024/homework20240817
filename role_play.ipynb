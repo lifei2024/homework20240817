{
 "cells": [
  {
   "cell_type": "code",
   "execution_count": 198,
   "id": "a4350ff4-50e7-46a9-b51a-331d88b02780",
   "metadata": {},
   "outputs": [],
   "source": [
    "import os\n",
    "from zhipuai import ZhipuAI\n",
    "from langchain.chains import LLMChain\n",
    "from langchain.prompts import PromptTemplate\n",
    "from langchain_openai import ChatOpenAI\n",
    "# 获取API Key\n",
    "os.environ[\"ZHIPUAI_API_KEY\"] = \"ZHIPUAI_API_KEY\"\n",
    "client = ZhipuAI() "
   ]
  },
  {
   "cell_type": "code",
   "execution_count": 200,
   "id": "30fc5b0b-3872-449b-ac8d-202018db7249",
   "metadata": {},
   "outputs": [],
   "source": [
    "def generate_character_profiles(client, text):\n",
    "    \"\"\"使用ChatGLM系列模型中的glm-4模型生成角色人设\"\"\"\n",
    "    template = \"\"\"你是一位生成角色人设的专家。根据下面这段文本，你的任务是为该文本各用一段话来生成两个角色人设。\n",
    "\n",
    "    文本：{text}\n",
    "\n",
    "    以下是根据该文本生成的两个角色人设：\n",
    "    \"\"\"\n",
    "    llm = ChatOpenAI(\n",
    "    temperature=0.95,\n",
    "    model=\"glm-4\",\n",
    "    openai_api_key=\"ZHIPUAI_API_KEY\",\n",
    "    openai_api_base=\"https://open.bigmodel.cn/api/paas/v4/\"\n",
    "    )\n",
    "\n",
    "    prompt = PromptTemplate(template=template)\n",
    "    chain = prompt | llm\n",
    "    response = chain.invoke({text})\n",
    "\n",
    "    #从响应中获取两位角色人设及它们的名字\n",
    "    role1_info = response.content.split('\\n\\n')[0].split('\\n')[1]\n",
    "    role2_info = response.content.split('\\n\\n')[1].split('\\n')[1]\n",
    "    role1_name = response.content.split('\\n\\n')[0].split('\\n')[0].split('：')[1]\n",
    "    role2_name = response.content.split('\\n\\n')[1].split('\\n')[0].split('：')[1]\n",
    "\n",
    "    return role1_info,role2_info,role1_name,role2_name"
   ]
  },
  {
   "cell_type": "code",
   "execution_count": 202,
   "id": "497ea763-4309-40ca-8280-02542a5d5520",
   "metadata": {},
   "outputs": [],
   "source": [
    "def create_chat_completion(client, meta, messages):\n",
    "    \"\"\"使用CharacterGLM API生成对话回复\"\"\"\n",
    "    response = client.chat.completions.create(\n",
    "        model=\"charglm-3\",\n",
    "        meta=meta,\n",
    "        messages=messages\n",
    "    )\n",
    "    return response.choices[0].message"
   ]
  },
  {
   "cell_type": "code",
   "execution_count": 204,
   "id": "5e9a1f55-26ce-483f-bb2c-0ae5e99286a5",
   "metadata": {},
   "outputs": [],
   "source": [
    "def save_dialogue_to_file(dialogue, filename):\n",
    "    \"\"\"将对话记录保存到文件\"\"\"\n",
    "    with open(filename, 'w', encoding='utf-8') as file:\n",
    "        for message in dialogue:\n",
    "            # 检查 message 是否包含 'role' 和 'content' 键\n",
    "            if 'role' in message and 'content' in message:\n",
    "                role = \"用户\" if message['role'] == 'user' else \"机器人\"\n",
    "                content = message['content']\n",
    "            else:\n",
    "                # 如果 message 不是一个有效的字典，直接使用它\n",
    "                role = \"用户\" if \"user\" in message else \"机器人\"\n",
    "                content = message\n",
    "            file.write(f\"{role}: {content}\\n\")"
   ]
  },
  {
   "cell_type": "code",
   "execution_count": 206,
   "id": "cbfa1425-46b5-4014-85b4-c77b6942dc05",
   "metadata": {},
   "outputs": [],
   "source": [
    "#给定一段文本\n",
    "text = \"\"\"在一个安静的咖啡馆里，阳光透过窗户洒在木质的桌椅上，两位老朋友，杰克和艾米丽，坐在角落里的一张桌子旁，享受着午后的悠闲时光。\n",
    "杰克轻轻搅动着杯中的拿铁，微笑着对艾米丽说：“你还记得我们第一次见面的情景吗？那时候你可是个害羞的小女孩。”\n",
    "艾米丽轻轻笑了，她的眼睛里闪烁着回忆的光芒：“当然记得，你当时正拿着一本厚厚的书，看起来像是要吞噬整个世界。”\n",
    "“哈哈，那本书确实让我着迷。”杰克回忆着，“那时候我正梦想着成为一名作家，没想到现在真的实现了。”\n",
    "艾米丽点头，眼中满是赞赏：“你的书我都有读，每本都让我感动。你的文字有力量，能够触动人心。”\n",
    "杰克谦虚地摇了摇头：“我只是把心里的故事写出来而已。倒是你，艾米丽，你的变化让我惊讶。记得你以前总是害怕站在人前，现在却能自信地领导一个团队。”\n",
    "艾米丽轻轻抿了口咖啡，眼中闪过一丝坚定：“是的，我学会了面对自己的恐惧。你的文字给了我勇气，让我知道每个人都有自己的故事，值得被听见。”\n",
    "两人的对话在咖啡的香气中缓缓流淌，时间仿佛在这一刻静止。他们谈论着过去，现在，以及未来的梦想，彼此的友谊在这些简单而又深刻的话语中愈发深厚。\n",
    "咖啡馆里的音乐轻轻响起，杰克和艾米丽的对话继续，他们的故事也在继续，就像这永不结束的午后时光。\n",
    "\"\"\""
   ]
  },
  {
   "cell_type": "code",
   "execution_count": 208,
   "id": "f8a43c75-13dc-437a-8f22-6d387b2cc9ab",
   "metadata": {},
   "outputs": [],
   "source": [
    "#消息对话记录\n",
    "messages= [\n",
    "        {\n",
    "            \"role\": \"assistant\",\n",
    "            \"content\": \"（旁白：在那个充满书香的咖啡馆里，杰克和艾米丽坐在窗边，享受着温暖的阳光和浓郁的咖啡香。他们的对话在轻松愉快的氛围中展开。）艾米丽，你还记得你第一次站在演讲台上的样子吗？那时候你紧张得手都在抖。\"\n",
    "          },\n",
    "        {\n",
    "            \"role\": \"user\",\n",
    "            \"content\": \"（轻笑着，眼中闪过一丝顽皮） 哦，杰克，你真是的。我那时候确实紧张，但你的鼓励让我迈出了那一步。\"\n",
    "          },\n",
    "        {\n",
    "            \"role\": \"assistant\",\n",
    "            \"content\": \"（点头，眼中满是骄傲） 是的，你做到了。你的演讲总是那么鼓舞人心，就像你带领团队一样。\"\n",
    "          },\n",
    "        {\n",
    "            \"role\": \"user\",\n",
    "            \"content\": \"（认真地） 我学到了很多，杰克。你的书教会了我如何用故事去影响别人，如何用文字去传递力量。\"\n",
    "          }\n",
    "        ]"
   ]
  },
  {
   "cell_type": "code",
   "execution_count": 212,
   "id": "caf95f01-3b16-416e-9719-5fb004f021b9",
   "metadata": {},
   "outputs": [],
   "source": [
    "#meta信息\n",
    "meta= {\n",
    "        \"user_info\": \"{role2_info}\",\n",
    "        \"bot_info\": \"{role1_info}\",\n",
    "        \"bot_name\": \"{role1_name}\",\n",
    "        \"user_name\": \"{role2_name}\"\n",
    "    }"
   ]
  },
  {
   "cell_type": "code",
   "execution_count": 214,
   "id": "f436f487-5560-4237-ab8a-df3ddab9122d",
   "metadata": {},
   "outputs": [],
   "source": [
    "#生成角色人设并返回\n",
    "profiles = generate_character_profiles(client, text)\n",
    "role1_info,role2_info,role1_name,role2_name = profiles"
   ]
  },
  {
   "cell_type": "code",
   "execution_count": 216,
   "id": "865c9332-aceb-463e-835d-37c5260c1ed6",
   "metadata": {},
   "outputs": [],
   "source": [
    "#调用超拟人大模型根据给定的消息生成聊天的回复\n",
    "reply_message = create_chat_completion(client, meta, messages)"
   ]
  },
  {
   "cell_type": "code",
   "execution_count": 218,
   "id": "b665d781-a46d-48c7-a1bd-57c48f708ef4",
   "metadata": {},
   "outputs": [
    {
     "name": "stdout",
     "output_type": "stream",
     "text": [
      "（微笑着，眼中闪过一丝感慨） 我很高兴听到这些，艾米丽。是你让我相信，我的书不仅仅是商业工具，更是一种鼓舞人心的力量。\n",
      "\n"
     ]
    }
   ],
   "source": [
    "print (reply_message.content)"
   ]
  },
  {
   "cell_type": "code",
   "execution_count": 220,
   "id": "c7641a38-1b86-421b-80a5-3b3b8726dfa7",
   "metadata": {},
   "outputs": [],
   "source": [
    "#将模型的回复添加到messages中\n",
    "messages.append(reply_message.content)"
   ]
  },
  {
   "cell_type": "code",
   "execution_count": 222,
   "id": "5278b118-95cd-41c0-9490-a3bd968b932e",
   "metadata": {},
   "outputs": [
    {
     "name": "stdout",
     "output_type": "stream",
     "text": [
      "[{'role': 'assistant', 'content': '（旁白：在那个充满书香的咖啡馆里，杰克和艾米丽坐在窗边，享受着温暖的阳光和浓郁的咖啡香。他们的对话在轻松愉快的氛围中展开。）艾米丽，你还记得你第一次站在演讲台上的样子吗？那时候你紧张得手都在抖。'}, {'role': 'user', 'content': '（轻笑着，眼中闪过一丝顽皮） 哦，杰克，你真是的。我那时候确实紧张，但你的鼓励让我迈出了那一步。'}, {'role': 'assistant', 'content': '（点头，眼中满是骄傲） 是的，你做到了。你的演讲总是那么鼓舞人心，就像你带领团队一样。'}, {'role': 'user', 'content': '（认真地） 我学到了很多，杰克。你的书教会了我如何用故事去影响别人，如何用文字去传递力量。'}, '（微笑着，眼中闪过一丝感慨） 我很高兴听到这些，艾米丽。是你让我相信，我的书不仅仅是商业工具，更是一种鼓舞人心的力量。\\n']\n"
     ]
    }
   ],
   "source": [
    "print (messages)"
   ]
  },
  {
   "cell_type": "code",
   "execution_count": 224,
   "id": "1ccf62ad-8999-47a4-a0b4-7d464deebf16",
   "metadata": {},
   "outputs": [],
   "source": [
    "#将对话记录保存到文件中\n",
    "dialogue_filename = \"dialogue.txt\"\n",
    "save_dialogue_to_file(messages, dialogue_filename)"
   ]
  },
  {
   "cell_type": "code",
   "execution_count": null,
   "id": "2ff11bb5-2ab9-479c-a976-d0c7e6e6f1c1",
   "metadata": {},
   "outputs": [],
   "source": []
  }
 ],
 "metadata": {
  "kernelspec": {
   "display_name": "Python 3 (ipykernel)",
   "language": "python",
   "name": "python3"
  },
  "language_info": {
   "codemirror_mode": {
    "name": "ipython",
    "version": 3
   },
   "file_extension": ".py",
   "mimetype": "text/x-python",
   "name": "python",
   "nbconvert_exporter": "python",
   "pygments_lexer": "ipython3",
   "version": "3.12.4"
  }
 },
 "nbformat": 4,
 "nbformat_minor": 5
}
